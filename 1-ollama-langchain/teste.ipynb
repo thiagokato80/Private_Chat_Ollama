{
 "cells": [
  {
   "cell_type": "code",
   "execution_count": null,
   "metadata": {},
   "outputs": [],
   "source": [
    "# Instalação de Modulos\n",
    "!pip install langchain"
   ]
  },
  {
   "cell_type": "code",
   "execution_count": 11,
   "metadata": {},
   "outputs": [],
   "source": [
    "import os\n",
    "import langchain\n",
    "from langchain_core.prompts import PromptTemplate\n",
    "\n",
    "from langchain.callbacks.manager import CallbackManager\n",
    "from langchain.callbacks.streaming_stdout import StreamingStdOutCallbackHandler\n",
    "from langchain_community.llms import Ollama"
   ]
  },
  {
   "cell_type": "code",
   "execution_count": 12,
   "metadata": {},
   "outputs": [],
   "source": [
    "model = os.environ.get(\"MODEL\", \"llama3\")\n",
    "#model = os.environ.get(\"MODEL\", \"llama2\")\n",
    "#model = os.environ.get(\"MODEL\", \"Mistral\")\n",
    "\n",
    "llm = Ollama(   \n",
    "    model=model,\n",
    "    verbose=False,\n",
    "    temperature=1\n",
    ")"
   ]
  },
  {
   "cell_type": "code",
   "execution_count": 15,
   "metadata": {},
   "outputs": [
    {
     "name": "stdout",
     "output_type": "stream",
     "text": [
      "A metodologia smart (Smart Methodology) é um abordagem que combina técnicas e ferramentas inteligentes para melhorar a eficiência, a produtividade e a tomada de decisões em diferentes áreas, incluindo reestruturações urbanas. Ela se baseia na análise de dados e informações para identificar oportunidades de melhoria e solucionar problemas.\n",
      "\n",
      "A aplicação da metodologia smart à uma reestruturação da área de compras pode envolver as seguintes etapas:\n",
      "\n",
      "1. **Análise de dados**: Coletar e analisar dados sobre o uso do espaço, como a frequência de visitantes, a duração da permanência, os hábitos de compra e outras informações relevantes.\n",
      "2. **Definição de objetivos**: Estabelecer objetivos claros para a reestruturação, como melhorar a experiência do consumidor, aumentar as vendas ou reduzir custos.\n",
      "3. **Análise de impacto**: Avaliar o impacto da reestruturação sobre os objetivos estabelecidos e identificar oportunidades de melhoria.\n",
      "4. **Desenvolvimento de soluções**: Criar soluções personalizadas para atender aos objetivos e necessidades específicas do espaço de compras, como a implementação de tecnologias inovadoras, como sistema de informações em tempo real ou Wi-Fi.\n",
      "5. **Teste e ajustamento**: Testar as soluções desenvolvidas e realizar ajustamentos necessários para garantir o sucesso da reestruturação.\n",
      "\n",
      "Exemplos de aplicações da metodologia smart na área de compras incluem:\n",
      "\n",
      "* Implementação de tecnologias de reconhecimento facial para personalizar a experiência do consumidor e melhorar a eficiência dos processos comerciais.\n",
      "* Desenvolvimento de aplicativos móveis que permitam aos clientes fazer compras online e offline, sem interrupções.\n",
      "* Instalação de painéis de informações em tempo real que exibam dados sobre as tendências de compra, a oferta de produtos e promoções especiais.\n",
      "* Implementação de sistemas de automação para gerenciar a iluminação, o som e a temperatura do local, otimizando a experiência do consumidor.\n",
      "\n",
      "A metodologia smart pode ajudar a melhorar a eficiência da área de compras, aumentar as vendas e fornecer uma experiência mais personalizada e agradável para os clientes.\n"
     ]
    }
   ],
   "source": [
    "question = \"O que é a metodologia smart? E como aplicar à uma reestruturação da área de compras?.\"\n",
    "\n",
    "chain = llm\n",
    "\n",
    "print(chain.invoke(question))"
   ]
  }
 ],
 "metadata": {
  "kernelspec": {
   "display_name": ".venv",
   "language": "python",
   "name": "python3"
  },
  "language_info": {
   "codemirror_mode": {
    "name": "ipython",
    "version": 3
   },
   "file_extension": ".py",
   "mimetype": "text/x-python",
   "name": "python",
   "nbconvert_exporter": "python",
   "pygments_lexer": "ipython3",
   "version": "3.12.2"
  }
 },
 "nbformat": 4,
 "nbformat_minor": 2
}
